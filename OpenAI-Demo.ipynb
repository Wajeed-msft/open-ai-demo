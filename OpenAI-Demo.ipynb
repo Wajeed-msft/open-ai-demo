{
  "nbformat": 4,
  "nbformat_minor": 0,
  "metadata": {
    "colab": {
      "provenance": []
    },
    "kernelspec": {
      "name": "python3",
      "display_name": "Python 3"
    },
    "language_info": {
      "name": "python"
    }
  },
  "cells": [
    {
      "cell_type": "code",
      "execution_count": null,
      "metadata": {
        "id": "n3Od-_8bZ703"
      },
      "outputs": [],
      "source": [
        "# Open AI - try outs\n",
        "\n",
        "We use this notebook to create embeddings with OpenAI and use completion model to get responses. Required installs for this notebook are:"
      ]
    },
    {
      "cell_type": "code",
      "source": [
        "!pip install -qU openai datasets"
      ],
      "metadata": {
        "id": "gRMISX5LaT_C"
      },
      "execution_count": null,
      "outputs": []
    }
  ]
}