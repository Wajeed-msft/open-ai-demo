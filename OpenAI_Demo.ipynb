{
  "nbformat": 4,
  "nbformat_minor": 0,
  "metadata": {
    "colab": {
      "provenance": []
    },
    "kernelspec": {
      "name": "python3",
      "display_name": "Python 3"
    },
    "language_info": {
      "name": "python"
    }
  },
  "cells": [
    {
      "cell_type": "markdown",
      "source": [
        "[![Open In Colab](https://colab.research.google.com/assets/colab-badge.svg)](https://colab.research.google.com/github/Wajeed-msft/open-ai-demo/blob/main/OpenAI-Demo.ipynb)\n",
        "\n",
        "# Open AI - try outs\n",
        "\n",
        "We use this notebook to create embeddings with OpenAI and use completion model to get responses. Required installs for this notebook are:"
      ],
      "metadata": {
        "id": "aVIHtH8ibJES"
      }
    },
    {
      "cell_type": "code",
      "source": [
        "!pip install -qU openai datasets tiktoken"
      ],
      "metadata": {
        "colab": {
          "base_uri": "https://localhost:8080/"
        },
        "id": "gRMISX5LaT_C",
        "outputId": "ffcc3942-8945-4399-b79c-e424d6e386bf"
      },
      "execution_count": 54,
      "outputs": [
        {
          "output_type": "stream",
          "name": "stdout",
          "text": [
            "\u001b[2K     \u001b[90m━━━━━━━━━━━━━━━━━━━━━━━━━━━━━━━━━━━━━━━━\u001b[0m \u001b[32m1.6/1.6 MB\u001b[0m \u001b[31m20.8 MB/s\u001b[0m eta \u001b[36m0:00:00\u001b[0m\n",
            "\u001b[2K     \u001b[90m━━━━━━━━━━━━━━━━━━━━━━━━━━━━━━━━━━━━━━━━\u001b[0m \u001b[32m62.8/62.8 KB\u001b[0m \u001b[31m6.4 MB/s\u001b[0m eta \u001b[36m0:00:00\u001b[0m\n",
            "\u001b[2K     \u001b[90m━━━━━━━━━━━━━━━━━━━━━━━━━━━━━━━━━━━━━━━━\u001b[0m \u001b[32m73.5/73.5 KB\u001b[0m \u001b[31m7.5 MB/s\u001b[0m eta \u001b[36m0:00:00\u001b[0m\n",
            "\u001b[2K     \u001b[90m━━━━━━━━━━━━━━━━━━━━━━━━━━━━━━━━━━━━━━━━\u001b[0m \u001b[32m2.1/2.1 MB\u001b[0m \u001b[31m50.0 MB/s\u001b[0m eta \u001b[36m0:00:00\u001b[0m\n",
            "\u001b[?25h"
          ]
        }
      ]
    },
    {
      "cell_type": "markdown",
      "source": [
        "### Embedding with OpenAI\n",
        "\n",
        "We begin by initializing the embedding model. For this we need [OpenAI API keys](https://beta.openai.com/signup)."
      ],
      "metadata": {
        "id": "elkTRPcIbigF"
      }
    },
    {
      "cell_type": "code",
      "source": [
        "import openai\n",
        "\n",
        "# TODO do we need org key?\n",
        "#openai.organization = \"OPENAI_ORG_KEY\"\n",
        "# get this from top-right dropdown on OpenAI under organization > settings\n",
        "openai.api_key = \"OPEN_API_KEY\"\n",
        "# get API key from top-right dropdown on OpenAI website\n",
        "\n",
        "openai.Engine.list()  # check we have authenticated"
      ],
      "metadata": {
        "id": "JjWF07BnbkAy"
      },
      "execution_count": null,
      "outputs": []
    },
    {
      "cell_type": "markdown",
      "source": [
        "The `openai.Engine.list()` function should return a list of models that we can use. One of those is `text-davinci-003` that we will use for creating completion like so:"
      ],
      "metadata": {
        "id": "YzZJmokKbxi9"
      }
    },
    {
      "cell_type": "code",
      "source": [
        "res = openai.Completion.create(\n",
        "    engine=\"text-davinci-003\",\n",
        "    prompt=\"\"\"Write a tagline for an ice cream shop.\"\"\"   \n",
        ")\n",
        "res"
      ],
      "metadata": {
        "id": "JNgIhNjwb2rM"
      },
      "execution_count": null,
      "outputs": []
    },
    {
      "cell_type": "code",
      "source": [
        "res['choices'][0][\"text\"]"
      ],
      "metadata": {
        "id": "KFkCDpMdebSy"
      },
      "execution_count": null,
      "outputs": []
    },
    {
      "cell_type": "markdown",
      "source": [
        "## Let's try Classification\n",
        "To create a text classifier with the API, we provide a description of the task and a few examples. In this example, we show how to classify the sentiment of Tweets."
      ],
      "metadata": {
        "id": "e-pvEzoZeour"
      }
    },
    {
      "cell_type": "code",
      "source": [
        "res = openai.Completion.create(\n",
        "    engine=\"text-davinci-003\",\n",
        "    max_tokens=100,\n",
        "    prompt=\"\"\"Decide whether a Tweet's sentiment is positive, neutral, or negative.\n",
        "            Tweet: I loved the new Batman movie!\n",
        "            Sentiment:\"\"\"   \n",
        ")\n",
        "print(res['choices'][0][\"text\"])"
      ],
      "metadata": {
        "id": "Ese_8WhPevA1"
      },
      "execution_count": null,
      "outputs": []
    },
    {
      "cell_type": "markdown",
      "source": [
        "## Let's generate [Conversation](https://platform.openai.com/docs/guides/completion/conversation) with AI"
      ],
      "metadata": {
        "id": "BHvCdHWGgBMS"
      }
    },
    {
      "cell_type": "code",
      "source": [
        "res = openai.Completion.create(\n",
        "    engine=\"text-davinci-003\",\n",
        "    max_tokens=100,\n",
        "    prompt=\"\"\"The following is a conversation with an AI assistant. The assistant is helpful, creative, clever, and very friendly.\n",
        "            Human: Hello, who are you?\n",
        "            AI: I am an AI created by OpenAI. How can I help you today?\n",
        "            Human:\"\"\")\n",
        "\n",
        "print(res['choices'][0][\"text\"])\n"
      ],
      "metadata": {
        "id": "BkC_p2j8gAui"
      },
      "execution_count": null,
      "outputs": []
    },
    {
      "cell_type": "markdown",
      "source": [
        "## Let's ask AI to [Generate](https://platform.openai.com/docs/guides/completion/generation) ideas"
      ],
      "metadata": {
        "id": "8vbBj7NrhV1U"
      }
    },
    {
      "cell_type": "code",
      "source": [
        "res = openai.Completion.create(\n",
        "    engine=\"text-davinci-003\",\n",
        "    max_tokens=200,\n",
        "    prompt=\"\"\"Brainstorm some ideas combining VR and fitness.:\"\"\"   \n",
        "        )\n",
        "\n",
        "print(res['choices'][0][\"text\"])"
      ],
      "metadata": {
        "id": "ZRYsjjlwfEUx"
      },
      "execution_count": null,
      "outputs": []
    },
    {
      "cell_type": "code",
      "source": [
        "res = openai.Completion.create(\n",
        "    engine=\"text-davinci-003\",\n",
        "    max_tokens=200,\n",
        "    prompt=\"\"\"GPT-3 is a very nice AI\n",
        "              That's pretty good at writing replies\n",
        "              When it's asked a question\n",
        "              It gives its suggestion\n",
        "              This is a poem it made that rhymes\n",
        "              Make this in the voice of GPT-3:\"\"\"   \n",
        "        )\n",
        "\n",
        "print(res['choices'][0][\"text\"])"
      ],
      "metadata": {
        "id": "xyv3W5TUiB1H"
      },
      "execution_count": null,
      "outputs": []
    },
    {
      "cell_type": "markdown",
      "source": [
        "## Let's generate images"
      ],
      "metadata": {
        "id": "uAIYcVE2kQY9"
      }
    },
    {
      "cell_type": "code",
      "source": [
        "res = openai.Image.create(\n",
        "  prompt=\"A cute baby cat\",\n",
        "  n=1,\n",
        "  size=\"256x256\"\n",
        ")\n",
        "res"
      ],
      "metadata": {
        "id": "n0FTyTkzidAV"
      },
      "execution_count": null,
      "outputs": []
    },
    {
      "cell_type": "code",
      "source": [
        "res = openai.Image.create(\n",
        "  prompt=\"A cute baby cat playing with a dog\",\n",
        "  n=1,\n",
        "  size=\"256x256\"\n",
        ")\n",
        "res"
      ],
      "metadata": {
        "id": "Pwje-KdTkWPg"
      },
      "execution_count": null,
      "outputs": []
    },
    {
      "cell_type": "markdown",
      "source": [
        "## Question Answering using Embeddings\n",
        "\n",
        "source: https://github.com/openai/openai-cookbook/blob/main/examples/Question_answering_using_embeddings.ipynb"
      ],
      "metadata": {
        "id": "o15BKvKwlCre"
      }
    },
    {
      "cell_type": "code",
      "source": [
        "import numpy as np\n",
        "import openai\n",
        "import pandas as pd\n",
        "import pickle\n",
        "import tiktoken\n",
        "\n",
        "COMPLETIONS_MODEL = \"text-davinci-003\"\n",
        "EMBEDDING_MODEL = \"text-embedding-ada-002\""
      ],
      "metadata": {
        "id": "3NZpceNylCdC"
      },
      "execution_count": 55,
      "outputs": []
    },
    {
      "cell_type": "code",
      "source": [
        "prompt = \"Who won the 2020 Summer Olympics men's high jump?\"\n",
        "\n",
        "openai.Completion.create(\n",
        "    prompt=prompt,\n",
        "    temperature=0,\n",
        "    max_tokens=300,\n",
        "    model=COMPLETIONS_MODEL\n",
        ")[\"choices\"][0][\"text\"].strip(\" \\n\")"
      ],
      "metadata": {
        "colab": {
          "base_uri": "https://localhost:8080/",
          "height": 35
        },
        "id": "CN8Nnqgnk_bJ",
        "outputId": "12474f62-fdb3-4203-c49b-7c53a752c062"
      },
      "execution_count": 59,
      "outputs": [
        {
          "output_type": "execute_result",
          "data": {
            "text/plain": [
              "\"Marcelo Chierighini of Brazil won the gold medal in the men's high jump at the 2020 Summer Olympics.\""
            ],
            "application/vnd.google.colaboratory.intrinsic+json": {
              "type": "string"
            }
          },
          "metadata": {},
          "execution_count": 59
        }
      ]
    },
    {
      "cell_type": "markdown",
      "source": [
        "### Marcelo is a gold medalist swimmer, and, we assume, not much of a high jumper! Evidently GPT-3 needs some assistance here."
      ],
      "metadata": {
        "id": "bmG8Xw3VmMw-"
      }
    },
    {
      "cell_type": "code",
      "source": [
        "prompt = \"\"\"Answer the question as truthfully as possible, and if you're unsure of the answer, say \"Sorry, I don't know\".\n",
        "\n",
        "Q: Who won the 2020 Summer Olympics men's high jump?\n",
        "A:\"\"\"\n",
        "\n",
        "openai.Completion.create(\n",
        "    prompt=prompt,\n",
        "    temperature=0,\n",
        "    max_tokens=300,\n",
        "    model=COMPLETIONS_MODEL\n",
        ")[\"choices\"][0][\"text\"].strip(\" \\n\")"
      ],
      "metadata": {
        "colab": {
          "base_uri": "https://localhost:8080/",
          "height": 35
        },
        "id": "ig5I0iO1lyZ0",
        "outputId": "1c769659-8004-4817-8b92-d85fabbe33e2"
      },
      "execution_count": 60,
      "outputs": [
        {
          "output_type": "execute_result",
          "data": {
            "text/plain": [
              "\"Sorry, I don't know.\""
            ],
            "application/vnd.google.colaboratory.intrinsic+json": {
              "type": "string"
            }
          },
          "metadata": {},
          "execution_count": 60
        }
      ]
    },
    {
      "cell_type": "code",
      "source": [
        "prompt = \"\"\"Answer the question as truthfully as possible using the provided text, and if the answer is not contained within the text below, say \"I don't know\"\n",
        "\n",
        "Context:\n",
        "The men's high jump event at the 2020 Summer Olympics took place between 30 July and 1 August 2021 at the Olympic Stadium.\n",
        "33 athletes from 24 nations competed; the total possible number depended on how many nations would use universality places \n",
        "to enter athletes in addition to the 32 qualifying through mark or ranking (no universality places were used in 2021).\n",
        "Italian athlete Gianmarco Tamberi along with Qatari athlete Mutaz Essa Barshim emerged as joint winners of the event following\n",
        "a tie between both of them as they cleared 2.37m. Both Tamberi and Barshim agreed to share the gold medal in a rare instance\n",
        "where the athletes of different nations had agreed to share the same medal in the history of Olympics. \n",
        "Barshim in particular was heard to ask a competition official \"Can we have two golds?\" in response to being offered a \n",
        "'jump off'. Maksim Nedasekau of Belarus took bronze. The medals were the first ever in the men's high jump for Italy and \n",
        "Belarus, the first gold in the men's high jump for Italy and Qatar, and the third consecutive medal in the men's high jump\n",
        "for Qatar (all by Barshim). Barshim became only the second man to earn three medals in high jump, joining Patrik Sjöberg\n",
        "of Sweden (1984 to 1992).\n",
        "\n",
        "Q: Who won the 2020 Summer Olympics men's high jump?\n",
        "A:\"\"\"\n",
        "\n",
        "openai.Completion.create(\n",
        "    prompt=prompt,\n",
        "    temperature=0,\n",
        "    max_tokens=300,\n",
        "    top_p=1,\n",
        "    frequency_penalty=0,\n",
        "    presence_penalty=0,\n",
        "    model=COMPLETIONS_MODEL\n",
        ")[\"choices\"][0][\"text\"].strip(\" \\n\")"
      ],
      "metadata": {
        "id": "ogbefaIzl1AF"
      },
      "execution_count": null,
      "outputs": []
    }
  ]
}
